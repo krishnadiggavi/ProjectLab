{
 "cells": [
  {
   "cell_type": "code",
   "execution_count": 5,
   "id": "71082e4f",
   "metadata": {},
   "outputs": [],
   "source": [
    "import numpy as np\n",
    "import scipy.stats"
   ]
  },
  {
   "cell_type": "markdown",
   "id": "30cde971",
   "metadata": {},
   "source": [
    "probably want to change this to class structure"
   ]
  },
  {
   "cell_type": "code",
   "execution_count": null,
   "id": "0ef52d53",
   "metadata": {},
   "outputs": [],
   "source": [
    "class Contract:\n",
    "    def __init__(self):\n",
    "        self.KPI_goal = 0\n",
    "        self.T = 0\n",
    "        self.observations = 0\n",
    "        self.maturity_underlying = 0\n",
    "        self.bps = 0\n",
    "        self.principal = 0"
   ]
  },
  {
   "cell_type": "code",
   "execution_count": null,
   "id": "ba035508",
   "metadata": {},
   "outputs": [],
   "source": [
    "class Dynamics:\n",
    "    def __init__(self):\n",
    "        self.KPI_0 = 0.0\n",
    "        self.r = 0.0\n",
    "        self.sigma = 0.0"
   ]
  },
  {
   "cell_type": "code",
   "execution_count": null,
   "id": "c69f8c03",
   "metadata": {},
   "outputs": [],
   "source": [
    "class Tree: \n",
    "    def __init__(self):\n",
    "        self.N = 0"
   ]
  },
  {
   "cell_type": "markdown",
   "id": "c6b256ff",
   "metadata": {},
   "source": [
    "insert example contract and dynamics here"
   ]
  },
  {
   "cell_type": "markdown",
   "id": "387c8b91",
   "metadata": {},
   "source": [
    "# Black-Scholes Method"
   ]
  },
  {
   "cell_type": "markdown",
   "id": "2d0ea08d",
   "metadata": {},
   "source": [
    "AONC European Call (but in reality its closer to a american?)"
   ]
  },
  {
   "cell_type": "code",
   "execution_count": 6,
   "id": "015656fe",
   "metadata": {},
   "outputs": [],
   "source": [
    "def BS_call(dynamics,contract):\n",
    "    KPI_0,sigma,r = dynamics.KPI_0,dynamics.sigma,dynamics.r\n",
    "    KPI_goal,T,maturity_underlying = contract.KPI_goal,contract.T,contract.maturity_underlying\n",
    "    observations,bps,P = contract.observations,contract.bps,contract.P\n",
    "    d2 = (np.log(KPI_0/KPI_goal)+(r+sigma**2/2)*T)/(sigma*np.sqrt(T))\n",
    "    Q = bps/10000*P*(maturity_underlying-T)*observations\n",
    "    return Q*np.exp(-r*T)*scipy.stats.norm(d2)"
   ]
  },
  {
   "cell_type": "markdown",
   "id": "edb3f082",
   "metadata": {},
   "source": [
    "# Binomial Tree Method"
   ]
  },
  {
   "cell_type": "code",
   "execution_count": 1,
   "id": "7ad3fd58",
   "metadata": {},
   "outputs": [
    {
     "ename": "SyntaxError",
     "evalue": "unexpected EOF while parsing (4201832125.py, line 23)",
     "output_type": "error",
     "traceback": [
      "\u001b[0;36m  File \u001b[0;32m\"/var/folders/wx/j6sr2hd916q5q4c_ljb6yjb80000gn/T/ipykernel_34184/4201832125.py\"\u001b[0;36m, line \u001b[0;32m23\u001b[0m\n\u001b[0;31m    \u001b[0m\n\u001b[0m    ^\u001b[0m\n\u001b[0;31mSyntaxError\u001b[0m\u001b[0;31m:\u001b[0m unexpected EOF while parsing\n"
     ]
    }
   ],
   "source": [
    "def bin_tree_call(KPI_0,KPI_goal,sigma,r,T,N,observations,maturity_underlying,bps,P): \n",
    "    delta_t = T/N \n",
    "    discount_factor = np.exp(-r*delta_t)\n",
    "    u = np.exp(sigma*np.sqrt(delta_t))\n",
    "    d = 1/u\n",
    "    p = (np.exp(r*delta_t)-d)/(u-d)\n",
    "    #constructing stock tree\n",
    "    KPI = np.zeros(N+1,N+1)\n",
    "    for time in range(N+1):\n",
    "        for node in range(time):\n",
    "            KPI[time][node] = KPI_0*(u**node)*(d**(time-node))\n",
    "    payoff = np.zeros(N+1,N+1)\n",
    "    for i in range(N+1):\n",
    "        if KPI[i][N] >= KPI_goal:\n",
    "            payoff[i][N] = bps/10000*P\n",
    "        else:\n",
    "            payoff[i][N] = 0\n",
    "    discount_payoff = 0\n",
    "    for i in range(N+1):\n",
    "        discount_payoff += payoff[i][N]*(math.factorial(N)/(math.factorial(i)*math.factorial(N-i)*(p**i)*((1-p)**(time-i)))\n",
    "    \n",
    "            \n",
    "        "
   ]
  },
  {
   "cell_type": "markdown",
   "id": "8bfc5c65",
   "metadata": {},
   "source": [
    "# Paper Implementation"
   ]
  },
  {
   "cell_type": "code",
   "execution_count": null,
   "id": "d3466e2d",
   "metadata": {},
   "outputs": [],
   "source": [
    "def paper_bin_tree(KPI_0,KPI_u,KPI_goal,sigma,r,T,N,observations,maturity_underlying,bps,P):\n",
    "    delta_t = T/N \n",
    "    discount_factor = np.exp(-r*delta_t)\n",
    "    u = 1+(KPI_u - KPI_0)/(KPI_0)\n",
    "    d = 1/u\n",
    "    sigma = np.log(u)/np.sqrt(delta_t)\n",
    "    p = (np.exp(r*delta_t)-d)/(u-d)\n",
    "    KPI = np.zeros(N+1)\n",
    "    KPI[0] = KPI_0*d**N\n",
    "    #construct the final set of prices at T\n",
    "    for n in range(1,N+1):\n",
    "        KPI[n] = KPI[n-1]*u/d\n",
    "    #option value at maturity\n",
    "    payoff = np.zeros(N+1)\n",
    "    for n in range(N+1):\n",
    "        if KPI[n] >= KPI_goal:\n",
    "            payoff[n] = bps/10000*P\n",
    "        else:\n",
    "            payoff[n] = 0\n",
    "    # \n",
    "    for time in np.range(N,0,-1):\n",
    "        for node in range(0,time):\n",
    "            payoff[node] = discount_factor * p*payoff[node+1]+ (1-p)*payoff[node]\n",
    "    return payoff[0] * (maturity_underlying-T)*observations\n",
    "\n",
    "            "
   ]
  }
 ],
 "metadata": {
  "kernelspec": {
   "display_name": "Python 3 (ipykernel)",
   "language": "python",
   "name": "python3"
  },
  "language_info": {
   "codemirror_mode": {
    "name": "ipython",
    "version": 3
   },
   "file_extension": ".py",
   "mimetype": "text/x-python",
   "name": "python",
   "nbconvert_exporter": "python",
   "pygments_lexer": "ipython3",
   "version": "3.8.11"
  }
 },
 "nbformat": 4,
 "nbformat_minor": 5
}

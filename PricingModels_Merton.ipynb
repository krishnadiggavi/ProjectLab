{
 "cells": [
  {
   "cell_type": "code",
   "execution_count": 5,
   "id": "2c6f6af4",
   "metadata": {},
   "outputs": [],
   "source": [
    "import numpy as np\n",
    "import scipy.stats"
   ]
  },
  {
   "cell_type": "markdown",
   "id": "b71f1691",
   "metadata": {},
   "source": [
    "# Black-Scholes Method"
   ]
  },
  {
   "cell_type": "markdown",
   "id": "afbaebbe",
   "metadata": {},
   "source": [
    "AONC"
   ]
  },
  {
   "cell_type": "code",
   "execution_count": 6,
   "id": "ea3e598e",
   "metadata": {},
   "outputs": [],
   "source": [
    "def BS_call(KPI_0,KPI_goal,r,sigma,T,observations,maturity_underlying,bps,P):\n",
    "    d2 = (np.log(KPI_0/KPI_goal)+(r+sigma**2/2)*T)/(sigma*np.sqrt(T))\n",
    "    Q = bps/10000*P*(maturity_underlying-T)*observations\n",
    "    return Q*np.exp(-r*T)*scipy.stats.norm(d2)"
   ]
  },
  {
   "cell_type": "markdown",
   "id": "abb555e8",
   "metadata": {},
   "source": [
    "# Binomial Tree Method"
   ]
  },
  {
   "cell_type": "code",
   "execution_count": 7,
   "id": "567ba301",
   "metadata": {},
   "outputs": [
    {
     "ename": "SyntaxError",
     "evalue": "invalid syntax (4028580804.py, line 1)",
     "output_type": "error",
     "traceback": [
      "\u001b[0;36m  File \u001b[0;32m\"/var/folders/wx/j6sr2hd916q5q4c_ljb6yjb80000gn/T/ipykernel_77882/4028580804.py\"\u001b[0;36m, line \u001b[0;32m1\u001b[0m\n\u001b[0;31m    def bin_tree_call(KPI_0,KPI_goal,r,sigma,T,observations,maturity_underlying,bps,P)\u001b[0m\n\u001b[0m                                                                                      ^\u001b[0m\n\u001b[0;31mSyntaxError\u001b[0m\u001b[0;31m:\u001b[0m invalid syntax\n"
     ]
    }
   ],
   "source": [
    "def bin_tree_call(KPI_0,KPI_goal,KPI_u,r,T,N,observations,maturity_underlying,bps,P)"
   ]
  }
 ],
 "metadata": {
  "kernelspec": {
   "display_name": "Python 3 (ipykernel)",
   "language": "python",
   "name": "python3"
  },
  "language_info": {
   "codemirror_mode": {
    "name": "ipython",
    "version": 3
   },
   "file_extension": ".py",
   "mimetype": "text/x-python",
   "name": "python",
   "nbconvert_exporter": "python",
   "pygments_lexer": "ipython3",
   "version": "3.8.11"
  }
 },
 "nbformat": 4,
 "nbformat_minor": 5
}
